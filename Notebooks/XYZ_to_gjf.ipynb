{
 "cells": [
  {
   "cell_type": "code",
   "execution_count": 1,
   "metadata": {
    "ExecuteTime": {
     "end_time": "2024-11-20T07:07:59.150187200Z",
     "start_time": "2024-11-20T07:07:58.317672600Z"
    }
   },
   "outputs": [],
   "source": [
    "import pandas as pd\n",
    "import numpy as np\n",
    "from rdkit import Chem\n",
    "from rdkit.Chem import AllChem\n",
    "import argparse\n",
    "import os"
   ]
  },
  {
   "cell_type": "code",
   "execution_count": 5,
   "outputs": [
    {
     "data": {
      "text/plain": "'c'"
     },
     "execution_count": 5,
     "metadata": {},
     "output_type": "execute_result"
    }
   ],
   "source": [
    "s = 'abc'\n",
    "s[-1:]"
   ],
   "metadata": {
    "collapsed": false,
    "ExecuteTime": {
     "end_time": "2024-11-20T07:27:33.820818200Z",
     "start_time": "2024-11-20T07:27:33.800785200Z"
    }
   }
  },
  {
   "cell_type": "code",
   "execution_count": null,
   "metadata": {},
   "outputs": [],
   "source": [
    "# Функция для генерации .gjf файла\n",
    "def generate_gjf(coords, filename, method, charge, multiplicity, title, level_of_theory, nproc, comment):\n",
    "    with open(filename, 'w') as f:\n",
    "        # Запись заголовков\n",
    "        f.write(f'%NProcShared={nproc}\\n')\n",
    "        f.write(f'# {method} {comment} {level_of_theory}\\n\\n')\n",
    "        f.write(f'{title}\\n\\n')\n",
    "        f.write(f'{charge} {multiplicity}\\n')\n",
    "        # Запись координат\n",
    "        f.write(coords)\n",
    "        f.write('\\n')"
   ]
  },
  {
   "cell_type": "code",
   "execution_count": null,
   "metadata": {},
   "outputs": [
    {
     "name": "stderr",
     "output_type": "stream",
     "text": [
      "usage: ipykernel_launcher.py [-h] --xyz_files XYZ_FILES [XYZ_FILES ...]\n",
      "                             [--method METHOD] [--basis_set BASIS_SET]\n",
      "                             [--charge CHARGE] [--multiplicity MULTIPLICITY]\n",
      "                             [--title TITLE]\n",
      "                             [--level_of_theory LEVEL_OF_THEORY]\n",
      "                             [--nproc NPROC]\n",
      "ipykernel_launcher.py: error: the following arguments are required: --xyz_files\n"
     ]
    },
    {
     "ename": "SystemExit",
     "evalue": "2",
     "output_type": "error",
     "traceback": [
      "An exception has occurred, use %tb to see the full traceback.\n",
      "\u001B[1;31mSystemExit\u001B[0m\u001B[1;31m:\u001B[0m 2\n"
     ]
    },
    {
     "name": "stderr",
     "output_type": "stream",
     "text": [
      "c:\\Users\\Igorr\\anaconda3\\envs\\Cchem\\lib\\site-packages\\IPython\\core\\interactiveshell.py:3585: UserWarning: To exit: use 'exit', 'quit', or Ctrl-D.\n",
      "  warn(\"To exit: use 'exit', 'quit', or Ctrl-D.\", stacklevel=1)\n"
     ]
    }
   ],
   "source": [
    "# Основной блок с использованием argparse\n",
    "def main():\n",
    "    parser = argparse.ArgumentParser(description='Generate .gjf files from SMILES strings with customizable parameters.')\n",
    "    parser.add_argument('--xyz_files', type=str, nargs='+', required=True, help='Enter your path to xyz file')\n",
    "    parser.add_argument('--method', type=str, default='Opt Freq SCRF=(CPCM,Solvent=Water)', help='Method for calculation (default: Opt Freq).')\n",
    "    parser.add_argument('--comment', type=str, default='Here could be your advertisement', help='Just comment.')\n",
    "    parser.add_argument('--charge', type=int, default=0, help='Charge of the molecule (default: 0).')\n",
    "    parser.add_argument('--multiplicity', type=int, default=1, help='Multiplicity of the molecule (default: 1).')\n",
    "    parser.add_argument('--title', type=str, default='Molecule', help='Title for the .gjf file (default: Molecule).')\n",
    "    parser.add_argument('--level_of_theory', type=str, default='PM3', help='Additional parameters for calculation (default: PM3)).')\n",
    "    parser.add_argument('--nproc', type=int, default=4, help='Number of processors to use (default: 4).')\n",
    "    \n",
    "\n",
    "    args = parser.parse_args()\n",
    "\n",
    "    def read_coords_from_xyz(file_path):\n",
    "        with open(file_path, 'r') as file:\n",
    "            lines = file.readlines()\n",
    "            # Пропускаем первые две строки (количество атомов и комментарий)\n",
    "            coords = lines\n",
    "        return coords\n",
    "\n",
    "# Генерация файлов .gjf\n",
    "    for i, xyz_file in enumerate(args.xyz_files):\n",
    "        # Проверяем, существует ли файл\n",
    "        if not os.path.exists(xyz_file):\n",
    "            print(f\"File not found: {xyz_file}\")\n",
    "            continue\n",
    "\n",
    "    # Чтение координат из .xyz файла\n",
    "    coords = read_coords_from_xyz(xyz_file)\n",
    "\n",
    "    # Генерация имени файла .gjf\n",
    "    filename = f\"molecule_{i+1}.gjf\"\n",
    "    title = f'{args.title} {i+1}'  # Добавление индекса к названию\n",
    "\n",
    "    # Вызов функции generate_gjf с координатами из файла\n",
    "    generate_gjf(\n",
    "        coords=coords,\n",
    "        filename=filename,\n",
    "        method=args.method,\n",
    "        comment=args.comment,\n",
    "        charge=args.charge,\n",
    "        multiplicity=args.multiplicity,\n",
    "        title=title,\n",
    "        level_of_theory=args.level_of_theory,\n",
    "        nproc=args.nproc,\n",
    "    )\n",
    "\n",
    "    print(f'Generated {filename} from file: {xyz_file}')\n",
    "    \n",
    "if __name__ == '__main__':\n",
    "    main()    "
   ]
  },
  {
   "cell_type": "markdown",
   "metadata": {},
   "source": [
    "path --nproc {int, default = 1} --chkfile {bool, default = False} --lot 'PM3 Opt Freq' --comment {str, default = 'Here could be your advertisement'} --charge {int, default = 0} --multiplicity {int , default = 1}"
   ]
  }
 ],
 "metadata": {
  "kernelspec": {
   "display_name": "Cchem",
   "language": "python",
   "name": "python3"
  },
  "language_info": {
   "codemirror_mode": {
    "name": "ipython",
    "version": 3
   },
   "file_extension": ".py",
   "mimetype": "text/x-python",
   "name": "python",
   "nbconvert_exporter": "python",
   "pygments_lexer": "ipython3",
   "version": "3.10.8"
  }
 },
 "nbformat": 4,
 "nbformat_minor": 2
}
